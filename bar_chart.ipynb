{
 "cells": [
  {
   "cell_type": "code",
   "execution_count": 21,
   "metadata": {},
   "outputs": [],
   "source": [
    "import numpy as np\n",
    "import matplotlib.pyplot as plt"
   ]
  },
  {
   "cell_type": "code",
   "execution_count": 22,
   "metadata": {},
   "outputs": [],
   "source": [
    "# 输入数据\n",
    "X = np.array([1,2,3,4,5])\n",
    "Y1 = np.array([2.3, 4.5, 3.6, 2.5, 1.8])\n",
    "Y2 = np.array([1.2, 3.5, 3.4, 2.6, 4.0])"
   ]
  },
  {
   "cell_type": "code",
   "execution_count": 23,
   "metadata": {},
   "outputs": [
    {
     "data": {
      "image/png": "[encoded data removed]",
      "text/plain": [
       "<matplotlib.figure.Figure at 0x7fe09f68a6d0>"
      ]
     },
     "metadata": {},
     "output_type": "display_data"
    }
   ],
   "source": [
    "# 图片大小\n",
    "width = 10\n",
    "high = width*0.618\n",
    "fig_size = [width, high]\n",
    "\n",
    "# 创建fig\n",
    "fig, ax = plt.subplots(figsize=fig_size)\n",
    "\n",
    "# fig加上背景线,背景线和xy轴上的记号位置对应,这里只加y轴\n",
    "ax.grid(b=True, axis='y')\n",
    "\n",
    "# 设置图片title\n",
    "title_font = {'family' : 'Arial',  \n",
    "              'color'  : 'black',  \n",
    "              'weight' : 'normal',  \n",
    "              'size'   : 25}  \n",
    "title_string = \"The title\"\n",
    "ax.set_title(label=title_string, fontdict=title_font)\n",
    "\n",
    "# 设置x，y轴的上下限\n",
    "Y = np.append(Y1, Y2) # 将Y1Y2集合合并起来\n",
    "xmin ,xmax = X.min(), X.max()\n",
    "ymin, ymax = Y.min(), Y.max()\n",
    "dx = (xmax - xmin) * 0.1\n",
    "dy = (ymax - ymin) * 0.1\n",
    "ax.set_xlim(xmin - dx, xmax + dx)\n",
    "ax.set_ylim(ymin - dy, ymax + dy)\n",
    "\n",
    "# 设置x, y轴上的记号\n",
    "ticks_font = {'family' : 'serif',  \n",
    "              'color'  : 'black',  \n",
    "              'weight' : 'normal',  \n",
    "              'size'   : 14}  \n",
    "ax.set_xticks([1.0,2.0,3.0,4.0,5.0]) # 设置记号在坐标轴上的位置，该位置与上述的上下限得对应\n",
    "ax.set_xticklabels((\"xxx1\", \"xxx2\", \"xxx3\", \"xxx4\", \"xxx5\"), fontdict=ticks_font) # 设置记号显示的内容，个数与记号位置一一对应\n",
    "ax.set_yticks([1.5,2.1,3.0,4.5,5.0,6.0])\n",
    "ax.set_yticklabels((\"yyy1\", \"yyy2\", \"yyy3\", \"yyy4\", \"yyy5\", \"yyy6\"), fontdict=ticks_font)\n",
    "\n",
    "# 设置x，y轴名称标签\n",
    "label_font = {'family' : 'serif',  \n",
    "              'color'  : 'black',  \n",
    "              'weight' : 'normal',  \n",
    "              'size'   : 16}  \n",
    "ax.set_xlabel(xlabel=\"The X label\", fontdict=label_font)\n",
    "ax.set_ylabel(ylabel=\"The Y label\", fontdict=label_font)\n",
    "\n",
    "# 往图上画线\n",
    "width=0.3\n",
    "bar1 = ax.bar(X-width/2, Y1, \n",
    "       width=width, color=\"yellow\")\n",
    "\n",
    "bar2 = ax.bar(X+width/2, Y2, \n",
    "       width=width, color=\"r\")\n",
    "\n",
    "# 添加bar的标签,bar这个类类本身不能添加标签，需要用这种方式\n",
    "ax.legend((bar1[0], bar2[0]), ('bar1', 'bar2'), loc='best', fontsize=16)\n",
    "\n",
    "# 存储路径，保存pdf格式图片\n",
    "savaPath = \"./outputFig/testPro/\"\n",
    "plt.savefig(savaPath + \"title_string.pdf\", bbox_inches=\"tight\")\n",
    "plt.show()"
   ]
  },
  {
   "cell_type": "code",
   "execution_count": null,
   "metadata": {},
   "outputs": [],
   "source": []
  }
 ],
 "metadata": {
  "kernelspec": {
   "display_name": "Python 2",
   "language": "python",
   "name": "python2"
  },
  "language_info": {
   "codemirror_mode": {
    "name": "ipython",
    "version": 2
   },
   "file_extension": ".py",
   "mimetype": "text/x-python",
   "name": "python",
   "nbconvert_exporter": "python",
   "pygments_lexer": "ipython2",
   "version": "2.7.12"
  }
 },
 "nbformat": 4,
 "nbformat_minor": 2
}
